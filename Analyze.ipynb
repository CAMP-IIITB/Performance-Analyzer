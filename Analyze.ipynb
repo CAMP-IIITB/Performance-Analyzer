{
  "nbformat": 4,
  "nbformat_minor": 0,
  "metadata": {
    "colab": {
      "name": "Problem Ratings.ipynb",
      "version": "0.3.2",
      "provenance": [],
      "include_colab_link": true
    },
    "kernelspec": {
      "name": "python3",
      "display_name": "Python 3"
    }
  },
  "cells": [
    {
      "cell_type": "markdown",
      "metadata": {
        "id": "view-in-github",
        "colab_type": "text"
      },
      "source": [
        "<a href=\"https://colab.research.google.com/github/CAMP-IIITB/Performance-Analyzer/blob/master/Analyze.ipynb\" target=\"_parent\"><img src=\"https://colab.research.google.com/assets/colab-badge.svg\" alt=\"Open In Colab\"/></a>"
      ]
    },
    {
      "metadata": {
        "id": "iSqZ_DgIEc23",
        "colab_type": "code",
        "colab": {}
      },
      "cell_type": "code",
      "source": [
        "from typing import Dict, Tuple, Text\n",
        "\n",
        "import requests\n",
        "import json\n",
        "\n",
        "import matplotlib.pyplot as plt\n",
        "\n",
        "import numpy as np"
      ],
      "execution_count": 0,
      "outputs": []
    },
    {
      "metadata": {
        "id": "4NvyBWIhEuU4",
        "colab_type": "code",
        "colab": {
          "base_uri": "https://localhost:8080/",
          "height": 34
        },
        "outputId": "6449ad21-2dda-43fb-9de5-53e8c9438123"
      },
      "cell_type": "code",
      "source": [
        "user = 'VastoLorde95' #@param\n",
        "url = 'http://codeforces.com/api/user.status?handle=' + user + '&from=1'\n",
        "\n",
        "response = requests.get(url=url)\n",
        "response = json.loads(response.text)\n",
        "submissions = response['result']\n",
        "\n",
        "print(user, 'has made', len(submissions), 'submissions')"
      ],
      "execution_count": 2,
      "outputs": [
        {
          "output_type": "stream",
          "text": [
            "VastoLorde95 has made 3481 submissions\n"
          ],
          "name": "stdout"
        }
      ]
    },
    {
      "metadata": {
        "id": "NMNiJVQoFGGy",
        "colab_type": "code",
        "colab": {}
      },
      "cell_type": "code",
      "source": [
        "def get_accepted_problems_dict(submissions: Dict) -> Dict[Tuple[Text, Text], int]:\n",
        "  ac_problems = {}\n",
        "  ac_tags = {}\n",
        "  for submission in submissions:\n",
        "    if submission['verdict'] != 'OK':\n",
        "      continue\n",
        "    problem = submission['problem']\n",
        "    if 'rating' not in problem:\n",
        "      continue\n",
        "    \n",
        "    contest_id = problem['contestId']\n",
        "    problem_index = problem['index']\n",
        "    problem_rating = problem['rating']\n",
        "    \n",
        "    problem_id = (contest_id, problem_index)\n",
        "    if problem_id in ac_problems:\n",
        "      assert ac_problems[problem_id] == problem_rating\n",
        "    else:\n",
        "      ac_problems[(contest_id, problem_index)] = problem_rating\n",
        "  return ac_problems"
      ],
      "execution_count": 0,
      "outputs": []
    },
    {
      "metadata": {
        "id": "HYHi2DzdHdrn",
        "colab_type": "code",
        "colab": {}
      },
      "cell_type": "code",
      "source": [
        "def get_ac_statistics(ac_problems: Dict[Tuple[Text, Text], int]):\n",
        "  ratings = list(ac_problems.values())\n",
        "\n",
        "  # Histogram of ratings\n",
        "  fig = plt.figure()\n",
        "  _ = plt.hist(ratings)\n",
        "  _ = plt.xlabel('problem ratings')\n",
        "  _ = plt.ylabel('frequency')\n",
        "  _ = plt.title('Problem ratings.')\n",
        "\n",
        "  # Mean and median problem rating\n",
        "  mean_rating, median_rating = np.mean(ratings), np.median(ratings)\n",
        "  print('Mean difficulty =', mean_rating)\n",
        "  print('Median difficulty =', median_rating)\n",
        "\n",
        "  # Top 20% hardest problems\n",
        "  num_ac = len(ratings)\n",
        "  top_20 = int(num_ac * 0.2 + 0.5)\n",
        "  \n",
        "  ratings.sort()\n",
        "  hardest_20 = ratings[-top_20:]\n",
        "\n",
        "  hard_mean_rating, hard_median_rating = np.mean(hardest_20), np.median(hardest_20)\n",
        "\n",
        "  # Histogram of ratings of hardest 20\n",
        "  fig = plt.figure()\n",
        "  _ = plt.hist(hardest_20)\n",
        "  _ = plt.xlabel('problem ratings')\n",
        "  _ = plt.ylabel('frequency')\n",
        "  _ = plt.title('Top 20% hardest problem rating.')\n",
        "\n",
        "  print('Hard mean difficulty =', hard_mean_rating)\n",
        "  print('Hard median difficulty =', hard_median_rating)"
      ],
      "execution_count": 0,
      "outputs": []
    },
    {
      "metadata": {
        "id": "XPYwfosOGvcu",
        "colab_type": "code",
        "colab": {}
      },
      "cell_type": "code",
      "source": [
        "ac_problems = get_accepted_problems_dict(submissions)"
      ],
      "execution_count": 0,
      "outputs": []
    },
    {
      "metadata": {
        "id": "fThfmBpyG-rn",
        "colab_type": "code",
        "outputId": "6cc28735-19a9-4d87-e580-b137cc587d21",
        "colab": {
          "base_uri": "https://localhost:8080/",
          "height": 805
        }
      },
      "cell_type": "code",
      "source": [
        "get_ac_statistics(ac_problems)"
      ],
      "execution_count": 6,
      "outputs": [
        {
          "output_type": "stream",
          "text": [
            "Mean difficulty = 1763.4427684117124\n",
            "Median difficulty = 1700.0\n",
            "Hard mean difficulty = 2501.3333333333335\n",
            "Hard median difficulty = 2500.0\n"
          ],
          "name": "stdout"
        },
        {
          "output_type": "display_data",
          "data": {
            "image/png": "[encoded data removed]",
            "text/plain": [
              "<Figure size 576x396 with 1 Axes>"
            ]
          },
          "metadata": {
            "tags": []
          }
        },
        {
          "output_type": "display_data",
          "data": {
            "image/png": "[encoded data removed]",
            "text/plain": [
              "<Figure size 576x396 with 1 Axes>"
            ]
          },
          "metadata": {
            "tags": []
          }
        }
      ]
    },
    {
      "metadata": {
        "id": "kuiXa9ajMujb",
        "colab_type": "code",
        "colab": {}
      },
      "cell_type": "code",
      "source": [
        ""
      ],
      "execution_count": 0,
      "outputs": []
    }
  ]
}